{
 "cells": [
  {
   "cell_type": "code",
   "execution_count": 5,
   "metadata": {},
   "outputs": [
    {
     "name": "stdout",
     "output_type": "stream",
     "text": [
      "Scraping links with #hnginternship...........\n"
     ]
    }
   ],
   "source": [
    "#!/usr/bin/python\n",
    "# -- coding: utf-8 --\n",
    "import requests\n",
    "import urllib.request\n",
    "import urllib.parse\n",
    "import urllib.error\n",
    "from bs4 import BeautifulSoup\n",
    "import ssl\n",
    "import json\n",
    "\n",
    "\n",
    "class Insta_Image_Links_Scraper:\n",
    "\n",
    "    def getlinks(self, hashtag, url):\n",
    "\n",
    "        html = urllib.request.urlopen(url, context=self.ctx).read()\n",
    "        soup = BeautifulSoup(html, 'html.parser')\n",
    "        script = soup.find('script', text=lambda t: \\\n",
    "                           t.startswith('window._sharedData'))\n",
    "        page_json = script.text.split(' = ', 1)[1].rstrip(';')\n",
    "        data = json.loads(page_json)\n",
    "        print ('Scraping links with #' + hashtag+\"...........\")\n",
    "        for post in data['entry_data']['TagPage'][0]['graphql'\n",
    "                ]['hashtag']['edge_hashtag_to_media']['edges']:\n",
    "            image_src = post['node']['thumbnail_resources'][1]['src']\n",
    "            hs = open(hashtag + '.txt', 'a')\n",
    "            hs.write(image_src + '\\n')\n",
    "            hs.close()\n",
    "\n",
    "    def main(self):\n",
    "        self.ctx = ssl.create_default_context()\n",
    "        self.ctx.check_hostname = False\n",
    "        self.ctx.verify_mode = ssl.CERT_NONE\n",
    "\n",
    "        with open('hashtag_list.txt') as f:\n",
    "            self.content = f.readlines()\n",
    "        self.content = [x.strip() for x in self.content]\n",
    "        for hashtag in self.content:\n",
    "            self.getlinks(hashtag,\n",
    "                          'https://www.instagram.com/explore/tags/'\n",
    "                          + hashtag + '/')\n",
    "\n",
    "\n",
    "#if _name_ == '_main_':\n",
    "    obj = Insta_Image_Links_Scraper()\n",
    "    obj.main()"
   ]
  }
 ],
 "metadata": {
  "kernelspec": {
   "display_name": "Python 3",
   "language": "python",
   "name": "python3"
  },
  "language_info": {
   "codemirror_mode": {
    "name": "ipython",
    "version": 3
   },
   "file_extension": ".py",
   "mimetype": "text/x-python",
   "name": "python",
   "nbconvert_exporter": "python",
   "pygments_lexer": "ipython3",
   "version": "3.7.3"
  }
 },
 "nbformat": 4,
 "nbformat_minor": 2
}
